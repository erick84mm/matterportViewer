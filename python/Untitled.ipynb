{
 "cells": [
  {
   "cell_type": "markdown",
   "metadata": {},
   "source": [
    "## duplicate images with the names in the list"
   ]
  },
  {
   "cell_type": "code",
   "execution_count": 2,
   "metadata": {},
   "outputs": [],
   "source": [
    "import os\n",
    "from PIL import Image"
   ]
  },
  {
   "cell_type": "code",
   "execution_count": 5,
   "metadata": {},
   "outputs": [],
   "source": [
    "SCAN_LIST = \"../src/assets/connectivity/scans.txt\"\n",
    "IMG_TEMPLATE = \"../src/assets/graph-img/2t7WUuJeko7.png\"\n",
    "IMG_TEMPLATE_PATH = \"../src/assets/graph-img/\"\n",
    "\n",
    "\n",
    "im = Image.open(IMG_TEMPLATE)\n",
    "with open(SCAN_LIST) as f:\n",
    "    for line in f:\n",
    "        im.save(IMG_TEMPLATE_PATH + line.strip() + \".png\", \"PNG\")\n",
    "        \n",
    "    \n",
    "    "
   ]
  },
  {
   "cell_type": "code",
   "execution_count": null,
   "metadata": {},
   "outputs": [],
   "source": []
  },
  {
   "cell_type": "code",
   "execution_count": null,
   "metadata": {},
   "outputs": [],
   "source": []
  }
 ],
 "metadata": {
  "kernelspec": {
   "display_name": "Python 3",
   "language": "python",
   "name": "python3"
  },
  "language_info": {
   "codemirror_mode": {
    "name": "ipython",
    "version": 3
   },
   "file_extension": ".py",
   "mimetype": "text/x-python",
   "name": "python",
   "nbconvert_exporter": "python",
   "pygments_lexer": "ipython3",
   "version": "3.6.4"
  }
 },
 "nbformat": 4,
 "nbformat_minor": 2
}
