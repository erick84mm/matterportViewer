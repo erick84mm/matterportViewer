{
 "cells": [
  {
   "cell_type": "markdown",
   "metadata": {},
   "source": [
    "## To change the Location graphs to the cytoscape format"
   ]
  },
  {
   "cell_type": "code",
   "execution_count": 1,
   "metadata": {},
   "outputs": [],
   "source": [
    "##Import section\n",
    "import json\n",
    "from pprint import pprint\n",
    "import networkx as nx\n",
    "import numpy as np\n",
    "import matplotlib.pyplot as plt\n",
    "from networkx.drawing import *\n"
   ]
  },
  {
   "cell_type": "code",
   "execution_count": 2,
   "metadata": {},
   "outputs": [],
   "source": [
    "CONNECTIVITY_PATH  = \"../src/assets/connectivity/\"\n",
    "GRAPH_PATH  = \"../src/assets/graph/\"\n",
    "SCAN_NAME = \"2t7WUuJeko7\"\n",
    "FILE_EXT = \"_connectivity.json\""
   ]
  },
  {
   "cell_type": "code",
   "execution_count": 3,
   "metadata": {},
   "outputs": [],
   "source": [
    "def load_nav_graphs(scans):\n",
    "    ''' Load connectivity graph for each scan '''\n",
    "\n",
    "    def distance(pose1, pose2):\n",
    "        ''' Euclidean distance between two graph poses '''\n",
    "        return ((pose1['pose'][3]-pose2['pose'][3])**2\\\n",
    "          + (pose1['pose'][7]-pose2['pose'][7])**2\\\n",
    "          + (pose1['pose'][11]-pose2['pose'][11])**2)**0.5\n",
    "\n",
    "    graphs = {}\n",
    "    for scan in scans:\n",
    "        with open('../src/assets/connectivity/%s_connectivity.json' % scan) as f:\n",
    "            G = nx.Graph()\n",
    "            positions = {}\n",
    "            data = json.load(f)\n",
    "            for i,item in enumerate(data):\n",
    "                if item['included']:\n",
    "                    for j,conn in enumerate(item['unobstructed']):\n",
    "                        if conn and data[j]['included']:\n",
    "                            positions[item['image_id']] = np.array([item['pose'][3], \n",
    "                                    item['pose'][7], item['pose'][11]]);\n",
    "                            assert data[j]['unobstructed'][i], 'Graph should be undirected'\n",
    "                            G.add_edge(item['image_id'],data[j]['image_id'],weight=distance(item,data[j]))\n",
    "            nx.set_node_attributes(G, values=positions, name='position')\n",
    "            graphs[scan] = G\n",
    "    return graphs"
   ]
  },
  {
   "cell_type": "code",
   "execution_count": 4,
   "metadata": {},
   "outputs": [],
   "source": [
    "def convert2cytoscapeJSON(G, out_path, min_x, min_y):\n",
    "    # load all nodes into nodes array\n",
    "    final = {}\n",
    "    final[\"nodes\"] = []\n",
    "    final[\"edges\"] = [] \n",
    "    positions = nx.get_node_attributes(G,'position')\n",
    "    #print(positions)\n",
    "    for node in G.nodes():\n",
    "        new_node = {}\n",
    "        new_node[\"data\"] = {}\n",
    "        new_node[\"data\"][\"id\"] = node\n",
    "        new_node[\"data\"][\"label\"] = node\n",
    "        new_node[\"position\"] = {}\n",
    "        new_node[\"position\"][\"x\"] = (positions[node][0] + min_x) * 100\n",
    "        new_node[\"position\"][\"y\"] = (positions[node][1] + min_y) * 100\n",
    "        new_node[\"grabbable\"] = False\n",
    "        new_node[\"events\"] = {}\n",
    "        new_node[\"events\"][\"click\"] = \"yes\"\n",
    "        \n",
    "        #new_node[\"locked\"] = True\n",
    "        final[\"nodes\"].append(new_node.copy())\n",
    "    #load all edges to edges array\n",
    "    for edge in G.edges():\n",
    "        new_edge = {}\n",
    "        new_edge[\"data\"]={}\n",
    "        new_edge[\"data\"][\"id\"]=edge[0]+edge[1]\n",
    "        new_edge[\"data\"][\"source\"]=edge[0]\n",
    "        new_edge[\"data\"][\"target\"]=edge[1]\n",
    "        final[\"edges\"].append(new_edge)\n",
    "        \n",
    "    with open(out_path, \"w\") as f:\n",
    "        json.dump(final, f)\n",
    "    return json.dumps(final)\n"
   ]
  },
  {
   "cell_type": "code",
   "execution_count": 5,
   "metadata": {},
   "outputs": [],
   "source": [
    "def convert2visJSON(G, out_path, min_x, min_y):\n",
    "    # load all nodes into nodes array\n",
    "    final = {}\n",
    "    final[\"nodes\"] = []\n",
    "    final[\"edges\"] = [] \n",
    "    positions = nx.get_node_attributes(G,'position')\n",
    "    #print(positions)\n",
    "    for i,node in enumerate(G.nodes()):\n",
    "        new_node = {}\n",
    "        new_node[\"id\"] = node\n",
    "        new_node[\"label\"] = \"Node \" + str(i) \n",
    "        new_node[\"x\"] = (positions[node][0] + min_x) * 100\n",
    "        new_node[\"y\"] = (positions[node][1] + min_y) * 100\n",
    "        final[\"nodes\"].append(new_node.copy())\n",
    "    #load all edges to edges array\n",
    "    for edge in G.edges():\n",
    "        new_edge = {}\n",
    "        new_edge[\"from\"]=edge[0]\n",
    "        new_edge[\"to\"]=edge[1]\n",
    "        final[\"edges\"].append(new_edge)\n",
    "        \n",
    "    with open(out_path, \"w\") as f:\n",
    "        json.dump(final, f)\n",
    "    return json.dumps(final)"
   ]
  },
  {
   "cell_type": "code",
   "execution_count": 6,
   "metadata": {},
   "outputs": [],
   "source": [
    "with open(CONNECTIVITY_PATH + \"scans.txt\") as f:\n",
    "    scans = []\n",
    "    for line in f:\n",
    "        scans.append(line.strip())\n",
    "        \n",
    "        \n",
    "graphs = load_nav_graphs(scans)\n",
    "\n",
    "for scan in scans:\n",
    "    positions = nx.get_node_attributes(graphs[scan],'position')\n",
    "    min_x = min([pos[0] for pos in positions.values()]) + 1\n",
    "    min_y = min([pos[0] for pos in positions.values()]) + 1\n",
    "    convert2visJSON(graphs[scan], GRAPH_PATH +  scan+ '_connectivity.json', min_x, min_y)\n"
   ]
  },
  {
   "cell_type": "code",
   "execution_count": null,
   "metadata": {},
   "outputs": [],
   "source": []
  }
 ],
 "metadata": {
  "kernelspec": {
   "display_name": "Python 3",
   "language": "python",
   "name": "python3"
  },
  "language_info": {
   "codemirror_mode": {
    "name": "ipython",
    "version": 3
   },
   "file_extension": ".py",
   "mimetype": "text/x-python",
   "name": "python",
   "nbconvert_exporter": "python",
   "pygments_lexer": "ipython3",
   "version": "3.6.4"
  }
 },
 "nbformat": 4,
 "nbformat_minor": 2
}
